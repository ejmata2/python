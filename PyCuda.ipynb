{
  "nbformat": 4,
  "nbformat_minor": 0,
  "metadata": {
    "colab": {
      "name": "PyCuda.ipynb",
      "provenance": [],
      "collapsed_sections": [],
      "authorship_tag": "ABX9TyNbN7COHSLuRQCGAR2/TjGk",
      "include_colab_link": true
    },
    "kernelspec": {
      "name": "python3",
      "display_name": "Python 3"
    },
    "language_info": {
      "name": "python"
    },
    "accelerator": "GPU"
  },
  "cells": [
    {
      "cell_type": "markdown",
      "metadata": {
        "id": "view-in-github",
        "colab_type": "text"
      },
      "source": [
        "<a href=\"https://colab.research.google.com/github/ejmata2/python/blob/main/PyCuda.ipynb\" target=\"_parent\"><img src=\"https://colab.research.google.com/assets/colab-badge.svg\" alt=\"Open In Colab\"/></a>"
      ]
    },
    {
      "cell_type": "markdown",
      "metadata": {
        "id": "tbfufYpkznwM"
      },
      "source": [
        "# Tutorial de PyCuda"
      ]
    },
    {
      "cell_type": "markdown",
      "metadata": {
        "id": "M0_J3iWh05AB"
      },
      "source": [
        "## Instalación \n"
      ]
    },
    {
      "cell_type": "code",
      "metadata": {
        "colab": {
          "base_uri": "https://localhost:8080/"
        },
        "id": "ZWKmMS7K1LwJ",
        "outputId": "a2960282-cff2-4402-f416-644be152b311"
      },
      "source": [
        "!pip install pycuda"
      ],
      "execution_count": 2,
      "outputs": [
        {
          "output_type": "stream",
          "text": [
            "Collecting pycuda\n",
            "\u001b[?25l  Downloading https://files.pythonhosted.org/packages/5a/56/4682a5118a234d15aa1c8768a528aac4858c7b04d2674e18d586d3dfda04/pycuda-2021.1.tar.gz (1.7MB)\n",
            "\u001b[K     |████████████████████████████████| 1.7MB 8.7MB/s \n",
            "\u001b[?25h  Installing build dependencies ... \u001b[?25l\u001b[?25hdone\n",
            "  Getting requirements to build wheel ... \u001b[?25l\u001b[?25hdone\n",
            "    Preparing wheel metadata ... \u001b[?25l\u001b[?25hdone\n",
            "Collecting mako\n",
            "\u001b[?25l  Downloading https://files.pythonhosted.org/packages/f3/54/dbc07fbb20865d3b78fdb7cf7fa713e2cba4f87f71100074ef2dc9f9d1f7/Mako-1.1.4-py2.py3-none-any.whl (75kB)\n",
            "\u001b[K     |████████████████████████████████| 81kB 9.4MB/s \n",
            "\u001b[?25hCollecting pytools>=2011.2\n",
            "\u001b[?25l  Downloading https://files.pythonhosted.org/packages/49/5b/136e5688da9bbd915ee8190bfd6a007fc0b19d71f26d5a2ab4b737b2eeb4/pytools-2021.2.6.tar.gz (63kB)\n",
            "\u001b[K     |████████████████████████████████| 71kB 9.5MB/s \n",
            "\u001b[?25hRequirement already satisfied: appdirs>=1.4.0 in /usr/local/lib/python3.7/dist-packages (from pycuda) (1.4.4)\n",
            "Requirement already satisfied: MarkupSafe>=0.9.2 in /usr/local/lib/python3.7/dist-packages (from mako->pycuda) (2.0.0)\n",
            "Requirement already satisfied: numpy>=1.6.0 in /usr/local/lib/python3.7/dist-packages (from pytools>=2011.2->pycuda) (1.19.5)\n",
            "Building wheels for collected packages: pycuda\n",
            "  Building wheel for pycuda (PEP 517) ... \u001b[?25l\u001b[?25hdone\n",
            "  Created wheel for pycuda: filename=pycuda-2021.1-cp37-cp37m-linux_x86_64.whl size=627104 sha256=2726d777bdae4048c369848a3e134f954026b6c2ba2319ba7e36bca560f2354f\n",
            "  Stored in directory: /root/.cache/pip/wheels/d5/55/64/fd4dddcc5f1c25eebd90b5291c3769101dc978c70165685512\n",
            "Successfully built pycuda\n",
            "Building wheels for collected packages: pytools\n",
            "  Building wheel for pytools (setup.py) ... \u001b[?25l\u001b[?25hdone\n",
            "  Created wheel for pytools: filename=pytools-2021.2.6-py2.py3-none-any.whl size=60643 sha256=eead12be33bf022270d3e060bbc7bb5df786c88d9b5cb1b165f5b462dcca5f23\n",
            "  Stored in directory: /root/.cache/pip/wheels/8c/a6/65/447b9b4fd1d9bde84ad2fea2431a38f69f3fb573476a98ae03\n",
            "Successfully built pytools\n",
            "Installing collected packages: mako, pytools, pycuda\n",
            "Successfully installed mako-1.1.4 pycuda-2021.1 pytools-2021.2.6\n"
          ],
          "name": "stdout"
        }
      ]
    },
    {
      "cell_type": "markdown",
      "metadata": {
        "id": "VdFHFNBsydyE"
      },
      "source": [
        "Before you can use PyCuda, you have to import and initialize it:"
      ]
    },
    {
      "cell_type": "code",
      "metadata": {
        "id": "5z1TQ4ByyT18"
      },
      "source": [
        "import pycuda.driver as cuda\n",
        "import pycuda.autoinit\n",
        "from pycuda.compiler import SourceModule"
      ],
      "execution_count": 3,
      "outputs": []
    },
    {
      "cell_type": "markdown",
      "metadata": {
        "id": "zsXO7N0Ayhwz"
      },
      "source": [
        "In PyCuda, you will mostly transfer data from numpy arrays on the host. Let’s make a 4x4 array of random numbers:"
      ]
    },
    {
      "cell_type": "code",
      "metadata": {
        "id": "d69oQcYNyhZj"
      },
      "source": [
        "import numpy\n",
        "a = numpy.random.randn(4,4)"
      ],
      "execution_count": 4,
      "outputs": []
    },
    {
      "cell_type": "markdown",
      "metadata": {
        "id": "HM55ZMMSyhJR"
      },
      "source": [
        "a consists of double precision numbers, but most nVidia devices only support single precision:"
      ]
    },
    {
      "cell_type": "code",
      "metadata": {
        "id": "8yUbgeY1yvIy"
      },
      "source": [
        "a = a.astype(numpy.float32)"
      ],
      "execution_count": 5,
      "outputs": []
    },
    {
      "cell_type": "markdown",
      "metadata": {
        "id": "fP9rFOgYy4qS"
      },
      "source": [
        " allocate memory on the device"
      ]
    },
    {
      "cell_type": "code",
      "metadata": {
        "id": "0SW6JnvTy4_q"
      },
      "source": [
        "a_gpu = cuda.mem_alloc(a.nbytes)"
      ],
      "execution_count": 6,
      "outputs": []
    },
    {
      "cell_type": "markdown",
      "metadata": {
        "id": "PLbXa_bdzBJr"
      },
      "source": [
        " transfer the data to the GPU:"
      ]
    },
    {
      "cell_type": "code",
      "metadata": {
        "id": "YDhefi1fzBwz"
      },
      "source": [
        "cuda.memcpy_htod(a_gpu, a)"
      ],
      "execution_count": 7,
      "outputs": []
    },
    {
      "cell_type": "markdown",
      "metadata": {
        "id": "dy70d3WAz3sS"
      },
      "source": [
        "# Executing a Kernel\n",
        "\n",
        "For this tutorial, we’ll stick to something simple: We will write code to double each entry in a_gpu. To this end, we write the corresponding CUDA C code, and feed it into the constructor of a pycuda.compiler.SourceModule:"
      ]
    },
    {
      "cell_type": "code",
      "metadata": {
        "id": "kT7ViDIOz3_j"
      },
      "source": [
        "mod = SourceModule(\"\"\"\n",
        "  __global__ void doublify(float *a)\n",
        "  {\n",
        "    int idx = threadIdx.x + threadIdx.y*4;\n",
        "    a[idx] *= 2;\n",
        "  }\n",
        "  \"\"\")"
      ],
      "execution_count": 8,
      "outputs": []
    },
    {
      "cell_type": "markdown",
      "metadata": {
        "id": "BFMIEn1U0Dr6"
      },
      "source": [
        "If there aren’t any errors, the code is now compiled and loaded onto the device. We find a reference to our pycuda.driver.Function and call it, specifying a_gpu as the argument, and a block size of 4x4:"
      ]
    },
    {
      "cell_type": "code",
      "metadata": {
        "id": "-zQnYI0K0Pe7"
      },
      "source": [
        "func = mod.get_function(\"doublify\")\n",
        "func(a_gpu, block=(4,4,1))"
      ],
      "execution_count": 9,
      "outputs": []
    },
    {
      "cell_type": "markdown",
      "metadata": {
        "id": "PEyK3AcC0Qqr"
      },
      "source": [
        "Finally, we fetch the data back from the GPU and display it, together with the original a:"
      ]
    },
    {
      "cell_type": "code",
      "metadata": {
        "colab": {
          "base_uri": "https://localhost:8080/"
        },
        "id": "8W9fvsF80Rej",
        "outputId": "496601c0-a1aa-4e95-ae5c-490c642b9d3a"
      },
      "source": [
        "a_doubled = numpy.empty_like(a)\n",
        "cuda.memcpy_dtoh(a_doubled, a_gpu)\n",
        "print(a_doubled)\n",
        "print(a)"
      ],
      "execution_count": 11,
      "outputs": [
        {
          "output_type": "stream",
          "text": [
            "[[ 2.985099   -2.987172    4.665507   -2.0345824 ]\n",
            " [-0.5008996  -5.4453635   2.6517894  -1.3422637 ]\n",
            " [ 0.13100177  1.7423439  -2.8372016  -3.248441  ]\n",
            " [-2.0961182   2.1598656  -0.7870664   2.3708656 ]]\n",
            "[[ 1.4925495  -1.493586    2.3327534  -1.0172912 ]\n",
            " [-0.2504498  -2.7226818   1.3258947  -0.67113185]\n",
            " [ 0.06550089  0.87117195 -1.4186008  -1.6242205 ]\n",
            " [-1.0480591   1.0799328  -0.3935332   1.1854328 ]]\n"
          ],
          "name": "stdout"
        }
      ]
    },
    {
      "cell_type": "markdown",
      "metadata": {
        "id": "efKfdTEk0ax0"
      },
      "source": [
        ""
      ]
    },
    {
      "cell_type": "code",
      "metadata": {
        "id": "KsyzohxI0bZz"
      },
      "source": [
        ""
      ],
      "execution_count": null,
      "outputs": []
    }
  ]
}