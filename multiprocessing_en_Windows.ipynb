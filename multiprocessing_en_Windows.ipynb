{
  "nbformat": 4,
  "nbformat_minor": 5,
  "metadata": {
    "kernelspec": {
      "display_name": "Python 3",
      "language": "python",
      "name": "python3"
    },
    "language_info": {
      "codemirror_mode": {
        "name": "ipython",
        "version": 3
      },
      "file_extension": ".py",
      "mimetype": "text/x-python",
      "name": "python",
      "nbconvert_exporter": "python",
      "pygments_lexer": "ipython3",
      "version": "3.8.8"
    },
    "colab": {
      "name": "multiprocessing_en_Windows.ipynb",
      "provenance": [],
      "include_colab_link": true
    }
  },
  "cells": [
    {
      "cell_type": "markdown",
      "metadata": {
        "id": "view-in-github",
        "colab_type": "text"
      },
      "source": [
        "<a href=\"https://colab.research.google.com/github/ejmata2/python/blob/main/multiprocessing_en_Windows.ipynb\" target=\"_parent\"><img src=\"https://colab.research.google.com/assets/colab-badge.svg\" alt=\"Open In Colab\"/></a>"
      ]
    },
    {
      "cell_type": "code",
      "metadata": {
        "id": "bd82dd25-6852-464f-a2fc-d3ac9cf15868"
      },
      "source": [
        "# Por qué el módulo multiprocessing no funciona igual en Linux que en Windows"
      ],
      "id": "bd82dd25-6852-464f-a2fc-d3ac9cf15868",
      "execution_count": null,
      "outputs": []
    },
    {
      "cell_type": "markdown",
      "metadata": {
        "id": "1xwPfPJasxkK"
      },
      "source": [
        ""
      ],
      "id": "1xwPfPJasxkK"
    },
    {
      "cell_type": "markdown",
      "metadata": {
        "id": "bf75bdb5-30c9-46e7-8e98-1a0707fdb991"
      },
      "source": [
        "https://medium.com/@grvsinghal/speed-up-your-python-code-using-multiprocessing-on-windows-and-jupyter-or-ipython-2714b49d6fac\n",
        "https://stackoverflow.com/questions/20222534/python-multiprocessing-on-windows-if-name-main"
      ],
      "id": "bf75bdb5-30c9-46e7-8e98-1a0707fdb991"
    },
    {
      "cell_type": "code",
      "metadata": {
        "id": "f2dbc755-ef66-4a86-a1de-a67f1ef239de"
      },
      "source": [
        "El siguiente código se ejecuta correctamente en Linux, pero no en Windows:"
      ],
      "id": "f2dbc755-ef66-4a86-a1de-a67f1ef239de",
      "execution_count": null,
      "outputs": []
    },
    {
      "cell_type": "code",
      "metadata": {
        "id": "104134bd-dc5f-42b3-8ca9-7bf02ddaa0f1",
        "colab": {
          "base_uri": "https://localhost:8080/"
        },
        "outputId": "9b815b64-b507-4112-fc89-0809560d182d"
      },
      "source": [
        "# Importar Pool\n",
        "import multiprocessing as mp\n",
        "\n",
        "# Definir una función para ejecutarla en paralelo\n",
        "def worker(x):\n",
        " return x*x\n",
        "\n",
        "# Obtener el número de cores del sistema o definir un número concreto\n",
        "# num_cores = mp.cpu_count()\n",
        "num_cores = 8\n",
        "\n",
        "#Crear un pool de procesos\n",
        "p=mp.Pool(processes = num_cores)\n",
        "\n",
        "# Iniciar el pool para que trabajen en paralelo\n",
        "output = p.map(worker,[i for i in range(0,num_cores)])\n",
        "print(output)"
      ],
      "id": "104134bd-dc5f-42b3-8ca9-7bf02ddaa0f1",
      "execution_count": null,
      "outputs": [
        {
          "output_type": "stream",
          "text": [
            "[0, 1, 4, 9, 16, 25, 36, 49]\n"
          ],
          "name": "stdout"
        }
      ]
    },
    {
      "cell_type": "markdown",
      "metadata": {
        "id": "790eaae2-91bb-486f-9e68-b869295cb5ba"
      },
      "source": [
        "Si lo ejecutamos en una shell de Python en Windows (cmd → python), se mostrará un error como éste: \n",
        "> Can't get attribute ‘worker' on <module ‘\\_\\_main\\_\\_' \\(built-in\\)> \n",
        "\n",
        "Y si lo ejecutamos en Jupiter/Windows, se queda atascado, nunca se completará la tarea y no se mostrará ningún mensaje.\n",
        "\n",
        "Esta se puede leer en la documentación sobre el módulo [multiprocessing](https://docs.python.org/3/library/multiprocessing.html) de Python 3.\n",
        "\n",
        "> Note: Functionality within this package requires that the \\_\\_main\\_\\_ module be importable by the children. This is covered in [Programming guidelines](https://docs.python.org/3/library/multiprocessing.html#multiprocessing.pool.Pool) however it is worth pointing out here. This means that some examples, such as the [multiprocessing.pool.Pool](https://docs.python.org/3/library/multiprocessing.html#multiprocessing.pool.Pool) examples will not work in the interactive interpreter...\n",
        "\n",
        "Para solucionarlo, hay que hacer lo siguiente:\n",
        "\n",
        "1. Definir el worker en un fichero .py separado e importarlo. \n",
        "\n",
        "2. Añadir esta cláusula antes de llamar al worker\n",
        "> if \\_\\_name\\_\\_ == '\\_\\_main\\_\\_:'\n",
        "\n",
        "Suponiendo que guardamos el código en el fichero workers.py, quedaría asío:"
      ],
      "id": "790eaae2-91bb-486f-9e68-b869295cb5ba"
    },
    {
      "cell_type": "code",
      "metadata": {
        "id": "-mVkFrOdXpns"
      },
      "source": [
        "!echo \"def worker(x):\" > workers.py"
      ],
      "id": "-mVkFrOdXpns",
      "execution_count": null,
      "outputs": []
    },
    {
      "cell_type": "code",
      "metadata": {
        "id": "JnfFoOeMXvYk"
      },
      "source": [
        "!echo \"    return x*x\" >> workers.py"
      ],
      "id": "JnfFoOeMXvYk",
      "execution_count": null,
      "outputs": []
    },
    {
      "cell_type": "code",
      "metadata": {
        "id": "hy-OhyUsX66U"
      },
      "source": [
        "import multiprocessing as mp\n",
        "import workers\n",
        "\n",
        "if __name__ ==  '__main__': \n",
        "   # Obtener el número de cores del sistema o definir un número concreto\n",
        "   # num_cores = mp.cpu_count()\n",
        "   num_cores = 8\n",
        "\n",
        "   #Crear un pool de procesos\n",
        "   p=mp.Pool(processes = num_cores)\n",
        "\n",
        "   # Iniciar el pool para que trabajen en paralelo\n",
        "   output = p.map(workers.worker,[i for i in range(0,num_cores)])\n",
        "   print(output)"
      ],
      "id": "hy-OhyUsX66U",
      "execution_count": null,
      "outputs": []
    },
    {
      "cell_type": "markdown",
      "metadata": {
        "id": "r2F6ouITs2Uw"
      },
      "source": [
        "https://stackoverflow.com/questions/20222534/python-multiprocessing-on-windows-if-name-main\n",
        "\n",
        "You do not have to call Process() from the \"top level\" of the module. It is perfectly fine to call Process from a class method.\n",
        "\n",
        "The only caveat is that you can not allow Process() to be called if or when the module is imported.\n",
        "\n",
        "Since Windows has no fork, the multiprocessing module starts a new Python process and imports the calling module. If Process() gets called upon import, then this sets off an infinite succession of new processes (or until your machine runs out of resources). This is the reason for hiding calls to Process() inside\n",
        "\n",
        "if __name__ == \"__main__\"\n",
        "since statements inside this if-statement will not get called upon import."
      ],
      "id": "r2F6ouITs2Uw"
    }
  ]
}