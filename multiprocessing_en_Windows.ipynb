{
  "nbformat": 4,
  "nbformat_minor": 5,
  "metadata": {
    "kernelspec": {
      "display_name": "Python 3",
      "language": "python",
      "name": "python3"
    },
    "language_info": {
      "codemirror_mode": {
        "name": "ipython",
        "version": 3
      },
      "file_extension": ".py",
      "mimetype": "text/x-python",
      "name": "python",
      "nbconvert_exporter": "python",
      "pygments_lexer": "ipython3",
      "version": "3.8.8"
    },
    "colab": {
      "name": "multiprocessing_en_Windows.ipynb",
      "provenance": [],
      "include_colab_link": true
    }
  },
  "cells": [
    {
      "cell_type": "markdown",
      "metadata": {
        "id": "view-in-github",
        "colab_type": "text"
      },
      "source": [
        "<a href=\"https://colab.research.google.com/github/ejmata2/python/blob/main/multiprocessing_en_Windows.ipynb\" target=\"_parent\"><img src=\"https://colab.research.google.com/assets/colab-badge.svg\" alt=\"Open In Colab\"/></a>"
      ]
    },
    {
      "cell_type": "code",
      "metadata": {
        "id": "bd82dd25-6852-464f-a2fc-d3ac9cf15868"
      },
      "source": [
        "# Por qué el módulo multiprocessing no funciona igual en Jupiter/Linux que en Jupiter/Windows"
      ],
      "id": "bd82dd25-6852-464f-a2fc-d3ac9cf15868",
      "execution_count": null,
      "outputs": []
    },
    {
      "cell_type": "markdown",
      "metadata": {
        "id": "bf75bdb5-30c9-46e7-8e98-1a0707fdb991"
      },
      "source": [
        "https://medium.com/@grvsinghal/speed-up-your-python-code-using-multiprocessing-on-windows-and-jupyter-or-ipython-2714b49d6fac\n",
        "https://stackoverflow.com/questions/20222534/python-multiprocessing-on-windows-if-name-main"
      ],
      "id": "bf75bdb5-30c9-46e7-8e98-1a0707fdb991"
    },
    {
      "cell_type": "code",
      "metadata": {
        "id": "f2dbc755-ef66-4a86-a1de-a67f1ef239de"
      },
      "source": [
        "El siguiente código se ejecuta perfectamente en Linux, pero no en Windows:"
      ],
      "id": "f2dbc755-ef66-4a86-a1de-a67f1ef239de",
      "execution_count": null,
      "outputs": []
    },
    {
      "cell_type": "code",
      "metadata": {
        "id": "R36ZGD-qQLWq"
      },
      "source": [
        ""
      ],
      "id": "R36ZGD-qQLWq",
      "execution_count": null,
      "outputs": []
    },
    {
      "cell_type": "code",
      "metadata": {
        "id": "104134bd-dc5f-42b3-8ca9-7bf02ddaa0f1"
      },
      "source": [
        "# Importar Pool\n",
        "from multiprocessing import Pool\n",
        "\n",
        "# Definir una función para ejecutarla en paralelo function which will be executed in parallel\n",
        "def worker(x):\n",
        " return x*x\n",
        "\n",
        "# Obtener el número de cores\n",
        "num_cores = mp.cpu_count()\n",
        "\n",
        "#Crear un pool de proceso\n",
        "p=Pool(processes = num_cores)\n",
        "\n",
        "# Iniciar el pool para que trabajen en paralelo\n",
        "output = p.map(worker,[i for i in range(0,3)])\n",
        "print(output)"
      ],
      "id": "104134bd-dc5f-42b3-8ca9-7bf02ddaa0f1",
      "execution_count": null,
      "outputs": []
    },
    {
      "cell_type": "markdown",
      "metadata": {
        "id": "790eaae2-91bb-486f-9e68-b869295cb5ba"
      },
      "source": [
        "Si lo ejecutamos en una shell de Python en Windows (cmd → python), se mostrará un error como éste: \n",
        "> Can't get attribute ‘worker' on <module ‘__main__' (built-in)> \n",
        "\n",
        "Y si lo ejecutamos en Jupiter/Windows, nunca se completará la tarea y no se mostrará ningún mensaje.\n",
        "\n",
        "Esta es la introducción de la Section 16.6 multiprocessing from the 2.7 docs.\n",
        "\n",
        "> Note: Functionality within this package requires that the __main__ module be importable by the children. This is covered in Programming guidelines however it is worth pointing out here.This means that some examples, such as the multiprocessing.Pool examples will not work in the interactive interpreter...\n",
        "\n",
        "Para solucionarlo, hay que hacer lo siguiente:\n",
        "\n",
        "1. Definir el worker en un fichero .py separado e importarlo. \n",
        "\n",
        "2. Añadir esta cláusula antes de llamar al worker\n",
        "> if \\_\\_name\\_\\_ == '\\_\\_main\\_\\_:'\n",
        "\n",
        "Suppose you save the code in workers.py, so it will look like this:"
      ],
      "id": "790eaae2-91bb-486f-9e68-b869295cb5ba"
    },
    {
      "cell_type": "code",
      "metadata": {
        "id": "fe93ea58-98c3-408b-8863-c0c97c3766bf"
      },
      "source": [
        "La solución es definir la función en un "
      ],
      "id": "fe93ea58-98c3-408b-8863-c0c97c3766bf",
      "execution_count": null,
      "outputs": []
    },
    {
      "cell_type": "code",
      "metadata": {
        "id": "badddf0d-f324-4ac8-928f-2b578c064fa1",
        "outputId": "74fb4787-ee3e-4710-f3f5-65a7b4ae80d7"
      },
      "source": [
        "import multiprocessing as mp\n",
        "import workers1\n",
        "\n",
        "if __name__ == '__main__':\n",
        "    files = [\"hello\"] * 10\n",
        "    pool = mp.Pool(processes=4)\n",
        "    res = pool.map(workers1.worker1, files)\n",
        "\n",
        "    print (\"temp\")"
      ],
      "id": "badddf0d-f324-4ac8-928f-2b578c064fa1",
      "execution_count": null,
      "outputs": [
        {
          "output_type": "stream",
          "text": [
            "temp\n"
          ],
          "name": "stdout"
        }
      ]
    },
    {
      "cell_type": "code",
      "metadata": {
        "id": "4fe1957a-20e0-4665-8c9b-3d921fe052e1",
        "outputId": "884ff9fb-e28f-49fb-e000-df1da648a7e1"
      },
      "source": [
        "from multiprocessing import Pool\n",
        "import workers2\n",
        "\n",
        "if __name__ ==  '__main__': \n",
        " num_processors = 8\n",
        " p=Pool(processes = num_processors)\n",
        " output = p.map(workers2.worker2,[i for i in range(0,num_processors)])\n",
        " print(output)"
      ],
      "id": "4fe1957a-20e0-4665-8c9b-3d921fe052e1",
      "execution_count": null,
      "outputs": [
        {
          "output_type": "stream",
          "text": [
            "[0, 1, 4, 9, 16, 25, 36, 49]\n"
          ],
          "name": "stdout"
        }
      ]
    },
    {
      "cell_type": "code",
      "metadata": {
        "id": "ff38bc1e-9868-4885-859a-e21f20d5b374"
      },
      "source": [
        ""
      ],
      "id": "ff38bc1e-9868-4885-859a-e21f20d5b374",
      "execution_count": null,
      "outputs": []
    }
  ]
}